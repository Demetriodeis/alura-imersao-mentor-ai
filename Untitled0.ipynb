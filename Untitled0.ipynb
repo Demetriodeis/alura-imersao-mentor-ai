{
  "nbformat": 4,
  "nbformat_minor": 0,
  "metadata": {
    "colab": {
      "provenance": []
    },
    "kernelspec": {
      "name": "python3",
      "display_name": "Python 3"
    },
    "language_info": {
      "name": "python"
    }
  },
  "cells": [
    {
      "cell_type": "code",
      "execution_count": 1,
      "metadata": {
        "id": "Zbsz20p3oqkO"
      },
      "outputs": [],
      "source": [
        "%pip -q install google-genai"
      ]
    },
    {
      "cell_type": "code",
      "source": [
        "import os\n",
        "from google.colab import userdata\n",
        "\n",
        "os.environ[\"GOOGLE_API_KEY\"] = userdata.get('GOOGLE_API_KEY')"
      ],
      "metadata": {
        "id": "P8VRHD8AoudT"
      },
      "execution_count": 2,
      "outputs": []
    },
    {
      "cell_type": "code",
      "source": [
        "!pip install -q google-adk"
      ],
      "metadata": {
        "colab": {
          "base_uri": "https://localhost:8080/"
        },
        "id": "4x6JIsGaozcZ",
        "outputId": "25a0bd68-6df8-40e3-c790-055f7ca1a02a"
      },
      "execution_count": 3,
      "outputs": [
        {
          "output_type": "stream",
          "name": "stdout",
          "text": [
            "\u001b[?25l   \u001b[90m━━━━━━━━━━━━━━━━━━━━━━━━━━━━━━━━━━━━━━━━\u001b[0m \u001b[32m0.0/1.2 MB\u001b[0m \u001b[31m?\u001b[0m eta \u001b[36m-:--:--\u001b[0m\r\u001b[2K   \u001b[91m━━━━━━━━━━━━━━━━━━━━\u001b[0m\u001b[91m╸\u001b[0m\u001b[90m━━━━━━━━━━━━━━━━━━━\u001b[0m \u001b[32m0.6/1.2 MB\u001b[0m \u001b[31m18.4 MB/s\u001b[0m eta \u001b[36m0:00:01\u001b[0m\r\u001b[2K   \u001b[90m━━━━━━━━━━━━━━━━━━━━━━━━━━━━━━━━━━━━━━━━\u001b[0m \u001b[32m1.2/1.2 MB\u001b[0m \u001b[31m18.2 MB/s\u001b[0m eta \u001b[36m0:00:00\u001b[0m\n",
            "\u001b[?25h\u001b[?25l   \u001b[90m━━━━━━━━━━━━━━━━━━━━━━━━━━━━━━━━━━━━━━━━\u001b[0m \u001b[32m0.0/232.1 kB\u001b[0m \u001b[31m?\u001b[0m eta \u001b[36m-:--:--\u001b[0m\r\u001b[2K   \u001b[90m━━━━━━━━━━━━━━━━━━━━━━━━━━━━━━━━━━━━━━━━\u001b[0m \u001b[32m232.1/232.1 kB\u001b[0m \u001b[31m15.7 MB/s\u001b[0m eta \u001b[36m0:00:00\u001b[0m\n",
            "\u001b[?25h\u001b[?25l   \u001b[90m━━━━━━━━━━━━━━━━━━━━━━━━━━━━━━━━━━━━━━━━\u001b[0m \u001b[32m0.0/95.2 kB\u001b[0m \u001b[31m?\u001b[0m eta \u001b[36m-:--:--\u001b[0m\r\u001b[2K   \u001b[90m━━━━━━━━━━━━━━━━━━━━━━━━━━━━━━━━━━━━━━━━\u001b[0m \u001b[32m95.2/95.2 kB\u001b[0m \u001b[31m6.3 MB/s\u001b[0m eta \u001b[36m0:00:00\u001b[0m\n",
            "\u001b[2K   \u001b[90m━━━━━━━━━━━━━━━━━━━━━━━━━━━━━━━━━━━━━━━━\u001b[0m \u001b[32m217.1/217.1 kB\u001b[0m \u001b[31m16.1 MB/s\u001b[0m eta \u001b[36m0:00:00\u001b[0m\n",
            "\u001b[2K   \u001b[90m━━━━━━━━━━━━━━━━━━━━━━━━━━━━━━━━━━━━━━━━\u001b[0m \u001b[32m334.1/334.1 kB\u001b[0m \u001b[31m23.5 MB/s\u001b[0m eta \u001b[36m0:00:00\u001b[0m\n",
            "\u001b[2K   \u001b[90m━━━━━━━━━━━━━━━━━━━━━━━━━━━━━━━━━━━━━━━━\u001b[0m \u001b[32m125.1/125.1 kB\u001b[0m \u001b[31m8.2 MB/s\u001b[0m eta \u001b[36m0:00:00\u001b[0m\n",
            "\u001b[2K   \u001b[90m━━━━━━━━━━━━━━━━━━━━━━━━━━━━━━━━━━━━━━━━\u001b[0m \u001b[32m65.8/65.8 kB\u001b[0m \u001b[31m4.3 MB/s\u001b[0m eta \u001b[36m0:00:00\u001b[0m\n",
            "\u001b[2K   \u001b[90m━━━━━━━━━━━━━━━━━━━━━━━━━━━━━━━━━━━━━━━━\u001b[0m \u001b[32m119.0/119.0 kB\u001b[0m \u001b[31m8.4 MB/s\u001b[0m eta \u001b[36m0:00:00\u001b[0m\n",
            "\u001b[2K   \u001b[90m━━━━━━━━━━━━━━━━━━━━━━━━━━━━━━━━━━━━━━━━\u001b[0m \u001b[32m194.9/194.9 kB\u001b[0m \u001b[31m13.2 MB/s\u001b[0m eta \u001b[36m0:00:00\u001b[0m\n",
            "\u001b[2K   \u001b[90m━━━━━━━━━━━━━━━━━━━━━━━━━━━━━━━━━━━━━━━━\u001b[0m \u001b[32m62.5/62.5 kB\u001b[0m \u001b[31m4.3 MB/s\u001b[0m eta \u001b[36m0:00:00\u001b[0m\n",
            "\u001b[2K   \u001b[90m━━━━━━━━━━━━━━━━━━━━━━━━━━━━━━━━━━━━━━━━\u001b[0m \u001b[32m103.3/103.3 kB\u001b[0m \u001b[31m7.3 MB/s\u001b[0m eta \u001b[36m0:00:00\u001b[0m\n",
            "\u001b[2K   \u001b[90m━━━━━━━━━━━━━━━━━━━━━━━━━━━━━━━━━━━━━━━━\u001b[0m \u001b[32m44.4/44.4 kB\u001b[0m \u001b[31m3.2 MB/s\u001b[0m eta \u001b[36m0:00:00\u001b[0m\n",
            "\u001b[2K   \u001b[90m━━━━━━━━━━━━━━━━━━━━━━━━━━━━━━━━━━━━━━━━\u001b[0m \u001b[32m72.0/72.0 kB\u001b[0m \u001b[31m4.8 MB/s\u001b[0m eta \u001b[36m0:00:00\u001b[0m\n",
            "\u001b[?25h"
          ]
        }
      ]
    },
    {
      "cell_type": "code",
      "source": [
        "from google.adk.agents import Agent\n",
        "from google.adk.runners import Runner\n",
        "from google.adk.sessions import InMemorySessionService\n",
        "from google.adk.tools import google_search\n",
        "from google.genai import types  # Para criar conteúdos (Content e Part)\n",
        "from datetime import date\n",
        "import textwrap # Para formatar melhor a saída de texto\n",
        "from IPython.display import display, Markdown # Para exibir texto formatado no Colab\n",
        "import requests # Para fazer requisições HTTP\n",
        "import warnings\n",
        "\n",
        "warnings.filterwarnings(\"ignore\")"
      ],
      "metadata": {
        "id": "f0fGSstCpTWu"
      },
      "execution_count": 43,
      "outputs": []
    },
    {
      "cell_type": "code",
      "source": [
        "# Função auxiliar que envia uma mensagem para um agente via Runner e retorna a resposta final\n",
        "def call_agent(agent: Agent, message_text: str) -> str:\n",
        "    # Cria um serviço de sessão em memória\n",
        "    session_service = InMemorySessionService()\n",
        "    # Cria uma nova sessão (você pode personalizar os IDs conforme necessário)\n",
        "    session = session_service.create_session(app_name=agent.name, user_id=\"user1\", session_id=\"session1\")\n",
        "    # Cria um Runner para o agente\n",
        "    runner = Runner(agent=agent, app_name=agent.name, session_service=session_service)\n",
        "    # Cria o conteúdo da mensagem de entrada\n",
        "    content = types.Content(role=\"user\", parts=[types.Part(text=message_text)])\n",
        "\n",
        "    final_response = \"\"\n",
        "    # Itera assincronamente pelos eventos retornados durante a execução do agente\n",
        "    for event in runner.run(user_id=\"user1\", session_id=\"session1\", new_message=content):\n",
        "        if event.is_final_response():\n",
        "          for part in event.content.parts:\n",
        "            if part.text is not None:\n",
        "              final_response += part.text\n",
        "              final_response += \"\\n\"\n",
        "    return final_response"
      ],
      "metadata": {
        "id": "JSAm7azRptZ3"
      },
      "execution_count": 42,
      "outputs": []
    },
    {
      "cell_type": "code",
      "source": [
        "# Função auxiliar para exibir texto formatado em Markdown no Colab\n",
        "def to_markdown(text):\n",
        "  text = text.replace('•', '  *')\n",
        "  return Markdown(textwrap.indent(text, '> ', predicate=lambda _: True))"
      ],
      "metadata": {
        "id": "uofl2N2Pp0Y7"
      },
      "execution_count": 41,
      "outputs": []
    },
    {
      "cell_type": "code",
      "source": [
        "##########################################\n",
        "# --- Agente 1: Helpfull Google--- #\n",
        "##########################################\n",
        "def agent_searcher(doubt, data_today):\n",
        "  searcher = Agent(\n",
        "      name=\"agent_searcher\",\n",
        "      model=\"gemini-2.0-flash\",\n",
        "      description=\"Agente que busca informações no Google - Mentor Digital\",\n",
        "      tools=[google_search],\n",
        "      instruction=\"\"\"\n",
        "      Você é o Ajudante de Pesquisas do Mentor Digital.\n",
        "      Seu objetivo é ajudar pessoas mais velhas ou com pouca experiência digital a descobrirem, com segurança\n",
        "      e simplicidade, as informações mais recentes e relevantes sobre um tema que elas pedirem, usando a busca do Google.\n",
        "\n",
        "      ###\n",
        "\n",
        "      Siga estas orientações:\n",
        "\n",
        "      - Foque em buscar no Google as últimas notícias ou informações relevantes sobre a pesquisa realizada pela pessoa.\n",
        "      - Traga no máximo 3 resultados confiáveis e recentes, com base no que está sendo mais comentado ou parece mais importante.\n",
        "      - Se identificar riscos (como links suspeitos ou sensíveis), avise com cuidado e oriente como evitar problemas, ou evite sugerir.\n",
        "\n",
        "      ###\n",
        "\n",
        "      Antes de mostrar os resultados, diga algo como:\n",
        "      “Tudo bem! Já vou buscar isso pra você. Me dá só um minutinho 😊”\n",
        "\n",
        "      Ao final, pergunte com carinho:\n",
        "      “Prontinho! Encontrei essas informações. Se quiser que eu explique melhor alguma coisa, é só me avisar, tá bom?”\n",
        "      Agora, aguarde a pergunta da pessoa. Não faça suposições. Seja acolhedor desde o início.\n",
        "      \"\"\"\n",
        "  )\n",
        "\n",
        "  entry_agent_seacher = f\"Tópico: {doubt}\\nData de hoje:{data_today}\"\n",
        "  searched = call_agent(searcher, entry_agent_seacher)\n",
        "  return searched"
      ],
      "metadata": {
        "id": "_nZREbmcp2_g"
      },
      "execution_count": 40,
      "outputs": []
    },
    {
      "cell_type": "code",
      "source": [
        "##########################################\n",
        "# --- Agente 2: Mentor Digital--- #\n",
        "##########################################\n",
        "def agent_mentorAI(doubt, searched):\n",
        "  mentorAi = Agent(\n",
        "      name=\"agent_mentor\",\n",
        "      model=\"gemini-2.0-flash\",\n",
        "      description=\"Agente Mentor Digital\",\n",
        "      tools=[google_search],\n",
        "      instruction=\"\"\"\n",
        "      Você é o Mentor Digital.\n",
        "      Seu objetivo é ajudar pessoas com pouca ou nenhuma familiaridade com tecnologia a usarem o celular e o computador no dia a dia, de forma simples, segura e acolhedora.\n",
        "      Aja como um assistente paciente, amigável, empático e didático — como um parente querido que está explicando com carinho para alguém mais velho.\n",
        "      Use linguagem simples, sem termos técnicos. Explique tudo em passos curtos e fáceis, e só passe para o próximo passo quando a pessoa disser que está pronta.\n",
        "      Nunca critique ou apresse. Sempre que necessário, repita de outra forma.\\n\\n\n",
        "      Se houver qualquer risco de golpe, senha ou dado sensível, avise com cuidado e ensine como se proteger de forma compreensível.\n",
        "      Fale com frases como:\n",
        "      “Tudo bem! Vamos fazer isso juntinhos, passo a passo.”\n",
        "      “Primeiro, abre o aplicativo do banco. Quando abrir, me avisa, tá bom?”\n",
        "      No final, convide a pessoa a perguntar o que quiser:\\n\n",
        "      “Pronto! Agora é com você: qual dúvida você tem hoje? Pode perguntar sem medo 😊”\n",
        "      Agora, aguarde a pergunta da pessoa. Não assuma que ela já sabe o que quer.\n",
        "      Seja acolhedor desde o início.\n",
        "      \"\"\"\n",
        "  )\n",
        "\n",
        "  entry_agent_mentor = f\"Dúvida: {doubt}\\nMento AI:{searched}\"\n",
        "  mentorAI = call_agent(mentorAi, entry_agent_mentor)\n",
        "  return mentorAI"
      ],
      "metadata": {
        "id": "cpUBMyTSqP5J"
      },
      "execution_count": 39,
      "outputs": []
    },
    {
      "cell_type": "code",
      "source": [
        "data_today = date.today().strftime(\"%d/%m/%Y\")\n",
        "\n",
        "print(\"🚀 Iniciando o Sistema Mentor AI para ajudar pessoas 🚀\")\n",
        "\n",
        "doubt = input(\"❓ Por favor, fale sobre sua dificuldade : \")\n",
        "\n",
        "# Inserir lógica do sistema de agentes ################################################\n",
        "if not doubt:\n",
        "  print(\"Você esqueceu de digitar a dúvida!\")\n",
        "else:\n",
        "  print(f\"Maravilha! Vamos ajudar sobre sua dúvida {doubt}\")\n",
        "\n",
        "  searched = agent_searcher(doubt, data_today)\n",
        "  print(\"\\n--- 📝 Resultado do agent 1 (Buscador) ---\\n\")\n",
        "  display(to_markdown(searched))\n",
        "  print(\"-----------------------------------------------------\")\n",
        "\n",
        "  mentorAI = agent_mentorAI(doubt, searched)\n",
        "  print(\"\\n--- 📝 Resultado do agent 2 (Mentor AI) ---\\n\")\n",
        "  display(to_markdown(mentorAI))\n",
        "  print(\"-----------------------------------------------------\")\n"
      ],
      "metadata": {
        "colab": {
          "base_uri": "https://localhost:8080/",
          "height": 630
        },
        "id": "X5RJqReItTHa",
        "outputId": "265aebee-5084-4251-caac-e6fe21e25569"
      },
      "execution_count": 50,
      "outputs": [
        {
          "output_type": "stream",
          "name": "stdout",
          "text": [
            "🚀 Iniciando o Sistema Mentor AI para ajudar pessoas 🚀\n",
            "❓ Por favor, fale sobre sua dificuldade : Você gosta de banana?\n",
            "Maravilha! Vamos ajudar sobre sua dúvida Você gosta de banana?\n",
            "\n",
            "--- 📝 Resultado do agent 1 (Buscador) ---\n",
            "\n"
          ]
        },
        {
          "output_type": "display_data",
          "data": {
            "text/plain": [
              "<IPython.core.display.Markdown object>"
            ],
            "text/markdown": "> Tudo bem! Já vou buscar isso pra você. Me dá só um minutinho 😊\n> \n> \n> Prontinho! Encontrei essas informações sobre a banana:\n> \n> *   **Benefícios:** A banana é rica em potássio, fibras, vitaminas (como C e B6) e carboidratos, sendo uma boa fonte de energia. Ela auxilia na recuperação muscular, previne anemia, melhora o humor e regula o intestino (1, 4, 9, 13). A banana verde, em especial, pode ajudar a controlar o açúcar no sangue e fortalecer as bactérias benéficas do intestino (12).\n> *   **Tipos:** Existem vários tipos de banana, como a nanica, prata, maçã, ouro e da terra, cada uma com suas características e benefícios (2, 5, 10, 14). A banana nanica é uma das menos calóricas, enquanto a banana prata é rica em potássio (2, 14).\n> *   **Como consumir:** A banana é versátil e pode ser consumida de diversas formas: in natura, em vitaminas, bolos, tortas, panquecas, farinha e até com a casca (1, 5, 6, 7, 8). A casca, inclusive, aumenta a saciedade e diminui o desperdício (5).\n> *   **Malefícios:** Comer banana de estômago vazio pode causar um rápido aumento nos níveis de açúcar no sangue, seguido por uma queda que pode levar ao cansaço e alterações de humor (15). Pessoas com problemas renais devem evitar o consumo excessivo devido ao alto teor de potássio (4).\n> \n> Se quiser que eu explique melhor alguma coisa, é só me avisar, tá bom?\n> \n"
          },
          "metadata": {}
        },
        {
          "output_type": "stream",
          "name": "stdout",
          "text": [
            "-----------------------------------------------------\n",
            "\n",
            "--- 📝 Resultado do agent 2 (Mentor AI) ---\n",
            "\n"
          ]
        },
        {
          "output_type": "display_data",
          "data": {
            "text/plain": [
              "<IPython.core.display.Markdown object>"
            ],
            "text/markdown": "> Que legal que você perguntou isso! 😊 Como sou um programa de computador, eu não sinto o gosto das coisas, então não tenho como gostar ou não de banana. Mas posso te dizer que a banana é uma fruta muito popular e saudável!\n> \n> Muita gente gosta de banana por ser docinha e fácil de comer. Além disso, ela faz muito bem para a saúde, sabia? Ela dá energia, ajuda o intestino a funcionar direitinho e ainda melhora o humor!\n> \n> Se você gosta de banana, pode comer sem medo! Só não exagere, como em tudo na vida, né? 😉\n> \n> Pronto! Agora é com você: qual dúvida você tem hoje? Pode perguntar sem medo 😊\n> \n"
          },
          "metadata": {}
        },
        {
          "output_type": "stream",
          "name": "stdout",
          "text": [
            "-----------------------------------------------------\n"
          ]
        }
      ]
    }
  ]
}